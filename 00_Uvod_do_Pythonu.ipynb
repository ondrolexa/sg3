{
 "cells": [
  {
   "cell_type": "markdown",
   "metadata": {},
   "source": [
    "![](https://www.python.org/static/community_logos/python-logo-master-v3-TM-flattened.png)\n",
    "\n",
    "## Co je to Python\n",
    "Python je moderní vysokoúrovňový programovací jazyk se silným důrazem na čitelnost kódu, který v roce 1991 navrhl Guido van Rossum. \n",
    "\n",
    "* interpretovaný\n",
    "* multiplatformní\n",
    "* dynamicky typovaný s automatickou správou paměti\n",
    "* objektově orientovaný, avšak multiparadigmatický\n",
    "* s velkou a dobře zdokumentovanou standardní knihovnou\n",
    "* s open-source rozšířeními do mnoha oblastí\n",
    "\n",
    "Jazyk Python je pojmenovaný podle pořadu společnosti BBC \"Monty Python's Flying Circus\"\ta jeho název tedy nemá nic společného s hady. Guido van Rossum je vášnivým fanouškem tohoto pořadu.\n",
    "\n",
    "### Proč se zabývat Pythonem\n",
    "Python je vyvíjen jako open source projekt, který zdarma nabízí instalační balíky pro většinu běžných platforem (Unix, Windows, Mac OS); ve většině distribucí systému Linux je Python součástí základní instalace. Python používá mimo jiných Google, CERN, NASA a významná část open-source světa.\n",
    "\n",
    "Python je dynamický interpretovaný jazyk. Někdy bývá zařazován mezi takzvané [skriptovací jazyky](https://cs.wikipedia.org/wiki/Skriptovac%C3%AD_jazyk). Jeho možnosti jsou ale větší. Python byl navržen tak, aby umožňoval tvorbu rozsáhlých, plnohodnotných aplikací.\n",
    "\n",
    "Python je hybridní jazyk (nebo také víceparadigmatický), to znamená, že umožňuje při psaní programů používat nejen [objektově orientované](https://cs.wikipedia.org/wiki/Objektov%C4%9B_orientovan%C3%A9_programov%C3%A1n%C3%AD) paradigma, ale i [procedurální](https://cs.wikipedia.org/wiki/Procedur%C3%A1ln%C3%AD_programov%C3%A1n%C3%AD) a v omezené míře i [funkcionální](https://cs.wikipedia.org/wiki/Funkcion%C3%A1ln%C3%AD_programov%C3%A1n%C3%AD), podle toho, komu co vyhovuje nebo se pro danou úlohu hodí nejlépe. Python má díky tomu vynikající vyjadřovací schopnosti. Kód programu je ve srovnání s jinými jazyky krátký a dobře čitelný.\n",
    "\n",
    "K význačným vlastnostem jazyka Python patří jeho jednoduchost z hlediska učení. Bývá dokonce považován za jeden z nejvhodnějších programovacích jazyků pro začátečníky. Python ale současně bourá zažitou představu, že jazyk vhodný pro výuku není vhodný pro praxi a naopak. Podstatnou měrou k tomu přispívá čistota a jednoduchost syntaxe, na kterou se při vývoji jazyka hodně dbá.\n",
    "\n",
    "Význačnou vlastností jazyka Python je produktivnost z hlediska rychlosti psaní programů. Týká se to jak nejjednodušších programů, tak aplikací velmi rozsáhlých. U jednoduchých programů se tato vlastnost projevuje především stručností zápisu. S vysokou produktivností souvisí dostupnost a snadná použitelnost široké škály knihovních modulů, umožňujících snadné řešení úloh z řady oblastí.\n",
    "\n",
    "### Instalace Pythonu\n",
    "Jeho interpretr je defaultně nainstalovaný na většině linuxových distribucí a Mac OS X. Samozrejmě existuje i verze pro Windows.\n",
    "\n",
    "* Windows - Python(x,y) obsahuje jazyk Python a vybrané moduly vhodné pro numerické výpočty \n",
    "* Linux - Python je ve většině distribucí\n",
    "* Vývojové prostředí - Spyder, Idle, Eric, Elcipse, NetBeans...\n",
    "* Python lze také spouštět z konzoly"
   ]
  },
  {
   "cell_type": "markdown",
   "metadata": {},
   "source": [
    "```\n",
    "$ python\n",
    "Python 3.4.3 |Continuum Analytics, Inc.| (default, Jun  4 2015, 15:29:08) \n",
    "[GCC 4.4.7 20120313 (Red Hat 4.4.7-1)] on linux\n",
    "Type \"help\", \"copyright\", \"credits\" or \"license\" for more information.\n",
    ">>>\n",
    "```\n",
    "\n",
    "V poslední době je velmi populární [distribuce Anaconda](https://www.continuum.io/downloads) od Continuum Analytics. Pro náš kurz je tato distribuce doporučena."
   ]
  },
  {
   "cell_type": "markdown",
   "metadata": {},
   "source": [
    "### Filozofie Pythonu a základy jazyka\n",
    "\n",
    "* Kód musí být kozistentní, jednoduchý a čitelný.\n",
    "* Měla by existovat jedna zřejmá a jednoduchá cesta k dosažení cíle.\n",
    "* Jazyk musí být vysoce rozšířitelný a modulární.\n",
    "\n",
    "Programátoři v Pythonu znají (nebo by měli znát) pravidla PEP20, známá jako \"The Zen of Python\".\n",
    "\n",
    "```\n",
    "The Zen of Python, by Tim Peters\n",
    "\n",
    "Krásný je lepší než ošklivý.\n",
    "Explicitní je lepší než implicitní.\n",
    "Jednoduchý je lepší než složitý.\n",
    "Složitý je lepší než komplikovaný.\n",
    "Plochý je lepší než zanořený.\n",
    "Řídký je lepší než hustý.\n",
    "Na čitelnosti záleží.\n",
    "Zvláštní případy nejsou dost zvláštní na to, aby ospravedlnily porušení pravidel.\n",
    "Ačkoliv praktičnost vyhrává nad čistotou.\n",
    "Chyby by nikdy neměly projít potichu.\n",
    "Pokud nejsou záměrně zamlčeny.\n",
    "Pokud se setkáš s nejednoznačností, odolej pokušení odhadovat.\n",
    "Měl by existovat jeden — a pokud možno pouze jeden — zřejmý způsob jak to udělat.\n",
    "Ačkoliv tento způsob nemusí být hned zřejmý, pokud nejsi Holanďan.\n",
    "Teď je lepší než nikdy.\n",
    "Ačkoliv nikdy je často lepší než '''právě''' teď.\n",
    "Pokud lze implementaci vysvětlit jen s obtížemi, jde o špatnou myšlenku.\n",
    "Pokud lze implementaci vysvětlit snadno, mohla by to být dobrá myšlenka.\n",
    "Jmenné prostory jsou jednou z velkých myšlenek — jen víc takových!\n",
    "```\n",
    "\n",
    "Anglický originál textu se vypíše, pokud v interaktivním režimu uživatel zadá příkaz <code>import this</code>."
   ]
  },
  {
   "cell_type": "code",
   "execution_count": 1,
   "metadata": {
    "collapsed": false
   },
   "outputs": [
    {
     "name": "stdout",
     "output_type": "stream",
     "text": [
      "The Zen of Python, by Tim Peters\n",
      "\n",
      "Beautiful is better than ugly.\n",
      "Explicit is better than implicit.\n",
      "Simple is better than complex.\n",
      "Complex is better than complicated.\n",
      "Flat is better than nested.\n",
      "Sparse is better than dense.\n",
      "Readability counts.\n",
      "Special cases aren't special enough to break the rules.\n",
      "Although practicality beats purity.\n",
      "Errors should never pass silently.\n",
      "Unless explicitly silenced.\n",
      "In the face of ambiguity, refuse the temptation to guess.\n",
      "There should be one-- and preferably only one --obvious way to do it.\n",
      "Although that way may not be obvious at first unless you're Dutch.\n",
      "Now is better than never.\n",
      "Although never is often better than *right* now.\n",
      "If the implementation is hard to explain, it's a bad idea.\n",
      "If the implementation is easy to explain, it may be a good idea.\n",
      "Namespaces are one honking great idea -- let's do more of those!\n"
     ]
    }
   ],
   "source": [
    "import this"
   ]
  },
  {
   "cell_type": "markdown",
   "metadata": {},
   "source": [
    "## Programujeme v Pythonu\n",
    "\n",
    "Program je posloupnost instrukcí, které určují jak má být výpočet proveden. Výpočtem může být řešení matematické úlohy, jako je např. řešení systému rovnic či určení kořenů polynomu nebo jím může být symbolický výpočet, jako je vyhledání a výměna textu v dokumentu nebo (kupodivu) kompilování programu.\n",
    "\n",
    "Podrobnosti se v různých jazycích liší, ale některé základní instrukce se vyskytují téměř v každém jazyce:\n",
    "\n",
    "<dl>\n",
    "  <dt>vstup (input)</dt>\n",
    "  <dd>Vložit údaje (data) z klávesnice, souboru či jiného zařízení.</dd>\n",
    "  <dt>výstup (output)</dt>\n",
    "  <dd>Zobrazit údaje (data) na obrazovce nebo je poslat do souboru či jiného zařízení.</dd>\n",
    "  <dt>matematika (math)</dt>\n",
    "  <dd>Provést základní matematické operace jako je například sčítání a odčítání</dd>\n",
    "  <dt>podmíněné provedení (conditional execution)</dt>\n",
    "  <dd>Ověřit jisté podmínky a provést příslušnou posloupnost příkazů.</dd>\n",
    "  <dt>opakování (repetition)</dt>\n",
    "  <dd>Provést něco opakovaně, obvykle s jistou obměnou.</dd>\n",
    "</dl>\n",
    "\n",
    "Věřte či nevěřte, to je téměř všechno z programování. Každý program, který kdy použijete, jakkoliv komplikovaný, se bude skládat z instrukcí více či méně podobných výše uvedeným. Programování můžeme vlastně prezentovat jako proces rozdělování komplexní úlohy do menších a menších podúloh, až tyto podúlohy jsou tak jednoduché, že se dají provést pomocí těchto zákládních instrukcí.\n",
    "\n",
    "### První program\n",
    "\n",
    "Protože bývá obvyklé začínat pozdravem \"Hello World!\", uvedeme si tuto ukázku. Současně s \"prvním programem\" se seznámíme s první funkcí, kterou budeme používat."
   ]
  },
  {
   "cell_type": "code",
   "execution_count": 2,
   "metadata": {
    "collapsed": false
   },
   "outputs": [
    {
     "name": "stdout",
     "output_type": "stream",
     "text": [
      "Hello, World!\n"
     ]
    }
   ],
   "source": [
    "print (\"Hello, World!\")"
   ]
  },
  {
   "cell_type": "markdown",
   "metadata": {},
   "source": [
    "Pár dalších příkladů i s odpověďmi od počítače. Ten # a vše co je za tím psát\n",
    "nemusíte, to je tzv. komentář a je jen pro vás, jen pro komentování kódu. Pro\n",
    "Python to neznamená vůbec nic, nemá to žádnou funkci, python komentáře\n",
    "zvesela ignoruje."
   ]
  },
  {
   "cell_type": "code",
   "execution_count": 3,
   "metadata": {
    "collapsed": false
   },
   "outputs": [
    {
     "data": {
      "text/plain": [
       "10"
      ]
     },
     "execution_count": 3,
     "metadata": {},
     "output_type": "execute_result"
    }
   ],
   "source": [
    "1 + 2 + 3 + 4"
   ]
  },
  {
   "cell_type": "code",
   "execution_count": 4,
   "metadata": {
    "collapsed": false
   },
   "outputs": [
    {
     "data": {
      "text/plain": [
       "3"
      ]
     },
     "execution_count": 4,
     "metadata": {},
     "output_type": "execute_result"
    }
   ],
   "source": [
    "1 + 2 * 3 - 4        # násobení je *, ne x."
   ]
  },
  {
   "cell_type": "markdown",
   "metadata": {},
   "source": [
    "Pokud vám náhodou stále není jasné proč 1+2\\*3-4 dává 3 a ne 5, tak ten důvod\n",
    "je ten, že *násobení má přednost před sčítáním*. Váš učitel matematiky tomu\n",
    "asi říká PŘEDNOST FUNKCÍ nebo podobně. Pokud to stále není jasné, nic si z\n",
    "toho nedělejte, snad to nebudete potřebovat."
   ]
  },
  {
   "cell_type": "code",
   "execution_count": 5,
   "metadata": {
    "collapsed": false
   },
   "outputs": [
    {
     "data": {
      "text/plain": [
       "60000"
      ]
     },
     "execution_count": 5,
     "metadata": {},
     "output_type": "execute_result"
    }
   ],
   "source": [
    "200 * 300"
   ]
  },
  {
   "cell_type": "code",
   "execution_count": 6,
   "metadata": {
    "collapsed": false
   },
   "outputs": [
    {
     "data": {
      "text/plain": [
       "3.0"
      ]
     },
     "execution_count": 6,
     "metadata": {},
     "output_type": "execute_result"
    }
   ],
   "source": [
    "12 / 4               # Pro dělení používejte /."
   ]
  },
  {
   "cell_type": "markdown",
   "metadata": {},
   "source": [
    "V Pythonu můžete používat závorky stejně jako v matematice:"
   ]
  },
  {
   "cell_type": "code",
   "execution_count": 7,
   "metadata": {
    "collapsed": false
   },
   "outputs": [
    {
     "data": {
      "text/plain": [
       "21"
      ]
     },
     "execution_count": 7,
     "metadata": {},
     "output_type": "execute_result"
    }
   ],
   "source": [
    "(1 + 2) * (3 + 4)"
   ]
  },
  {
   "cell_type": "markdown",
   "metadata": {},
   "source": [
    "Nebojte se experimentovat! Kdykoliv se naučíte něco nového v Pythonu, zkuste\n",
    "dělat malé (nebo větší!) změny a hrajte si s tím, dokud si nebudete jistí,\n",
    "jak to funguje. Neomezujte se na to, co je napsáno na těchto listech!\n",
    "\n",
    "### Různé typy objektů\n",
    "\n",
    "Všechny věci, se kterými jsme doposud pracovali, byly **čísla**. Ale Python\n",
    "umí pracovat kromě čísel i se spoustou dalších věcí. Zkuste například toto:"
   ]
  },
  {
   "cell_type": "code",
   "execution_count": 8,
   "metadata": {
    "collapsed": false
   },
   "outputs": [
    {
     "data": {
      "text/plain": [
       "'geologie'"
      ]
     },
     "execution_count": 8,
     "metadata": {},
     "output_type": "execute_result"
    }
   ],
   "source": [
    "\"geo\" + \"logie\""
   ]
  },
  {
   "cell_type": "markdown",
   "metadata": {},
   "source": [
    "Věci mezi uvozovkami se nazývají **řetězce**. Jak vás asi již napadlo z\n",
    "našeho příkladu, + můžeme používat i u řetězců. Spojuje řetězce; to znamená\n",
    "připojuje jeden hned za ten druhý. Následuje trochu překvapení:"
   ]
  },
  {
   "cell_type": "code",
   "execution_count": 9,
   "metadata": {
    "collapsed": false
   },
   "outputs": [
    {
     "data": {
      "text/plain": [
       "'geogeogeo'"
      ]
     },
     "execution_count": 9,
     "metadata": {},
     "output_type": "execute_result"
    }
   ],
   "source": [
    "3 * \"geo\""
   ]
  },
  {
   "cell_type": "markdown",
   "metadata": {},
   "source": [
    "Uvozovky můžete používat jednoduché nebo dvojité, Pythonu na tom nezáleží"
   ]
  },
  {
   "cell_type": "code",
   "execution_count": 10,
   "metadata": {
    "collapsed": false
   },
   "outputs": [
    {
     "data": {
      "text/plain": [
       "'geologie'"
      ]
     },
     "execution_count": 10,
     "metadata": {},
     "output_type": "execute_result"
    }
   ],
   "source": [
    "'geo' + \"logie\""
   ]
  },
  {
   "cell_type": "markdown",
   "metadata": {},
   "source": [
    "### Dáváme věcem jména\n",
    "\n",
    "Představte si, že máte udělat mnoho výpočtů s číslem 123456. (Možná je to váš\n",
    "měsíční příjem korunách :-)). Dá se to udělat takto:"
   ]
  },
  {
   "cell_type": "code",
   "execution_count": 11,
   "metadata": {
    "collapsed": false
   },
   "outputs": [
    {
     "data": {
      "text/plain": [
       "370368"
      ]
     },
     "execution_count": 11,
     "metadata": {},
     "output_type": "execute_result"
    }
   ],
   "source": [
    "123456 * 3"
   ]
  },
  {
   "cell_type": "code",
   "execution_count": 12,
   "metadata": {
    "collapsed": false
   },
   "outputs": [
    {
     "data": {
      "text/plain": [
       "20576.0"
      ]
     },
     "execution_count": 12,
     "metadata": {},
     "output_type": "execute_result"
    }
   ],
   "source": [
    "123456 / 6"
   ]
  },
  {
   "cell_type": "code",
   "execution_count": 13,
   "metadata": {
    "collapsed": false
   },
   "outputs": [
    {
     "data": {
      "text/plain": [
       "122456"
      ]
     },
     "execution_count": 13,
     "metadata": {},
     "output_type": "execute_result"
    }
   ],
   "source": [
    "123456 - 1000"
   ]
  },
  {
   "cell_type": "markdown",
   "metadata": {},
   "source": [
    "Určitě vás to za chvíli přestane bavit, protože koho by bavilo psát pořád\n",
    "dokola tak dlouhé číslo. A navíc - když bude chtít někdo jiný po vás číst, co\n",
    "jste dělali, bude asi zmaten tajemným číslem 123456 a proč je tam tak často.\n",
    "A ještě - také se můžete snadno splést a místo 4 napsat 3.\n",
    "\n",
    "Všechny tyto problémy můžeme řešit tak, že dáme číslu jméno. Že ho prostě\n",
    "pojmenujeme. Dáme mu tedy jméno, které bude dobře vystihovat smysl toho\n",
    "čísla. Upozorňuji, že nesmíme používat háčky ani čárky, takže například místo\n",
    "``číslo`` musíme psát ``cislo``. Pro náš případ bude nejlepší ``plat``.\n",
    "Uděláme to takto:"
   ]
  },
  {
   "cell_type": "code",
   "execution_count": 14,
   "metadata": {
    "collapsed": true
   },
   "outputs": [],
   "source": [
    "plat = 123456"
   ]
  },
  {
   "cell_type": "code",
   "execution_count": 15,
   "metadata": {
    "collapsed": false
   },
   "outputs": [
    {
     "data": {
      "text/plain": [
       "493824"
      ]
     },
     "execution_count": 15,
     "metadata": {},
     "output_type": "execute_result"
    }
   ],
   "source": [
    "plat * 4"
   ]
  },
  {
   "cell_type": "code",
   "execution_count": 16,
   "metadata": {
    "collapsed": false
   },
   "outputs": [
    {
     "data": {
      "text/plain": [
       "10288.0"
      ]
     },
     "execution_count": 16,
     "metadata": {},
     "output_type": "execute_result"
    }
   ],
   "source": [
    "plat / 12"
   ]
  },
  {
   "cell_type": "code",
   "execution_count": 17,
   "metadata": {
    "collapsed": false
   },
   "outputs": [
    {
     "data": {
      "text/plain": [
       "123456"
      ]
     },
     "execution_count": 17,
     "metadata": {},
     "output_type": "execute_result"
    }
   ],
   "source": [
    "plat"
   ]
  },
  {
   "cell_type": "markdown",
   "metadata": {},
   "source": [
    "Vtip je v tom, že jakmile jednou řeknete ``plat=123456``, můžete kdykoliv\n",
    "použít ``plat`` místo ``123456``.\n",
    "\n",
    "Čemu my zde říkáme **jména**, většina lidí říká **proměnné**. Později si\n",
    "řekneme proč. Prozatím jsou jména v pohodě.\n",
    "\n",
    "Jména můžete dávat i jiným věcem, než jsou čísla. Například:"
   ]
  },
  {
   "cell_type": "code",
   "execution_count": 18,
   "metadata": {
    "collapsed": false
   },
   "outputs": [
    {
     "data": {
      "text/plain": [
       "'Ahoj Ondrej!'"
      ]
     },
     "execution_count": 18,
     "metadata": {},
     "output_type": "execute_result"
    }
   ],
   "source": [
    "Jmeno = 'Ondrej'\n",
    "'Ahoj ' + Jmeno + '!'"
   ]
  },
  {
   "cell_type": "markdown",
   "metadata": {},
   "source": [
    "### Tisk několika věci za sebou\n",
    "\n",
    "Chceme-li vytisknout více věcí za sebou v jednom řádku, použijeme **čárku**\n",
    "na oddělení jednotlivých věcí mezi sebou. Můžeme tak tisknou současně čísla i\n",
    "text. Příklad:"
   ]
  },
  {
   "cell_type": "code",
   "execution_count": 19,
   "metadata": {
    "collapsed": false
   },
   "outputs": [
    {
     "name": "stdout",
     "output_type": "stream",
     "text": [
      "Cena výrobku je 1000 Kč.\n"
     ]
    }
   ],
   "source": [
    "cena = 1000\n",
    "print (\"Cena výrobku je\", cena, \"Kč.\")"
   ]
  },
  {
   "cell_type": "markdown",
   "metadata": {},
   "source": [
    "Příkaz ``print`` se používá, když chcete přimět počítač, aby něco\n",
    "vytisknul. Dosud jsme to nepotřebovali, protože Python tiskne odpověď\n",
    "automaticky jen když jsme v promptu a když je to věc, která se dá vypočítat.\n",
    "A to v tomto případě není. V programech musíme ``print`` k tisku používat\n",
    "vždy."
   ]
  },
  {
   "cell_type": "markdown",
   "metadata": {},
   "source": [
    "### Děláme něco znovu a znovu\n",
    "\n",
    "Vaše kalkulačka jistě umí stejně dobře vše, co jsme až doposud dělali. Teď si\n",
    "ukážeme, co už asi neumí. Mimochodem, mezery na začátku druhého řádku jsou\n",
    "důležité!"
   ]
  },
  {
   "cell_type": "code",
   "execution_count": 20,
   "metadata": {
    "collapsed": false
   },
   "outputs": [
    {
     "name": "stdout",
     "output_type": "stream",
     "text": [
      "1 3\n",
      "2 6\n",
      "3 9\n",
      "4 12\n",
      "5 15\n"
     ]
    }
   ],
   "source": [
    "for x in [1, 2, 3, 4, 5]:\n",
    "    print (x, 3 * x)"
   ]
  },
  {
   "cell_type": "markdown",
   "metadata": {},
   "source": [
    "Všimněte si, že Python obyčejně vkládá mezeru mezi dvě věci, které tiskne za sebou v řádku."
   ]
  }
 ],
 "metadata": {
  "kernelspec": {
   "display_name": "Python 3",
   "language": "python",
   "name": "python3"
  },
  "language_info": {
   "codemirror_mode": {
    "name": "ipython",
    "version": 3
   },
   "file_extension": ".py",
   "mimetype": "text/x-python",
   "name": "python",
   "nbconvert_exporter": "python",
   "pygments_lexer": "ipython3",
   "version": "3.4.3"
  }
 },
 "nbformat": 4,
 "nbformat_minor": 0
}
